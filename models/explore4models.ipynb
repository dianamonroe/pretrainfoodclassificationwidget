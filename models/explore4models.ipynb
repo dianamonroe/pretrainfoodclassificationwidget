{
 "cells": [
  {
   "cell_type": "code",
   "execution_count": 3,
   "metadata": {},
   "outputs": [
    {
     "ename": "ImportError",
     "evalue": "libGL.so.1: cannot open shared object file: No such file or directory",
     "output_type": "error",
     "traceback": [
      "\u001b[0;31m---------------------------------------------------------------------------\u001b[0m",
      "\u001b[0;31mImportError\u001b[0m                               Traceback (most recent call last)",
      "Cell \u001b[0;32mIn[3], line 3\u001b[0m\n\u001b[1;32m      1\u001b[0m \u001b[38;5;66;03m# Filtro de Calidad para las Imágenes\u001b[39;00m\n\u001b[0;32m----> 3\u001b[0m \u001b[38;5;28;01mimport\u001b[39;00m \u001b[38;5;21;01mcv2\u001b[39;00m\n\u001b[1;32m      4\u001b[0m \u001b[38;5;28;01mimport\u001b[39;00m \u001b[38;5;21;01mnumpy\u001b[39;00m \u001b[38;5;28;01mas\u001b[39;00m \u001b[38;5;21;01mnp\u001b[39;00m\n\u001b[1;32m      5\u001b[0m \u001b[38;5;28;01mfrom\u001b[39;00m \u001b[38;5;21;01mPIL\u001b[39;00m \u001b[38;5;28;01mimport\u001b[39;00m Image, ImageStat\n",
      "\u001b[0;31mImportError\u001b[0m: libGL.so.1: cannot open shared object file: No such file or directory"
     ]
    }
   ],
   "source": [
    "# Filtro de Calidad para las Imágenes\n",
    "\n",
    "import cv2\n",
    "import numpy as np\n",
    "from PIL import Image, ImageStat\n",
    "\n",
    "# Parámetros mínimos\n",
    "MIN_RESOLUTION = (224, 224)  # Ancho x Alto\n",
    "MIN_BRIGHTNESS = 50  # Umbral mínimo de luminosidad\n",
    "MIN_LAPLACIAN_VARIANCE = 100  # Umbral para enfoque\n",
    "\n",
    "def check_image_quality(image_path):\n",
    "    \"\"\"\n",
    "    Filtrar imágenes por resolución, tamaño, enfoque y luminosidad.\n",
    "    \"\"\"\n",
    "    try:\n",
    "        # Cargar la imagen\n",
    "        img = Image.open(image_path)\n",
    "        img_cv = cv2.imread(image_path)\n",
    "\n",
    "        # Comprobar resolución y tamaño\n",
    "        if img.size < MIN_RESOLUTION:\n",
    "            print(f\"Imagen descartada por tamaño: {image_path}\")\n",
    "            return False\n",
    "\n",
    "        # Comprobar luminosidad\n",
    "        brightness = np.mean(img_cv)\n",
    "        if brightness < MIN_BRIGHTNESS:\n",
    "            print(f\"Imagen descartada por baja luminosidad: {image_path}\")\n",
    "            return False\n",
    "\n",
    "        # Comprobar enfoque\n",
    "        laplacian_var = cv2.Laplacian(cv2.cvtColor(img_cv, cv2.COLOR_BGR2GRAY), cv2.CV_64F).var()\n",
    "        if laplacian_var < MIN_LAPLACIAN_VARIANCE:\n",
    "            print(f\"Imagen descartada por desenfoque: {image_path}\")\n",
    "            return False\n",
    "\n",
    "        return True  # Imagen válida\n",
    "    except Exception as e:\n",
    "        print(f\"Error procesando {image_path}: {e}\")\n",
    "        return False\n",
    "\n",
    "image_path = \"/workspace/pretrainfoodclassificationwidget/classified/no\"\n",
    "check_image_quality(image_path)\n"
   ]
  },
  {
   "cell_type": "markdown",
   "metadata": {},
   "source": []
  },
  {
   "cell_type": "code",
   "execution_count": null,
   "metadata": {},
   "outputs": [],
   "source": []
  }
 ],
 "metadata": {
  "kernelspec": {
   "display_name": "Python 3",
   "language": "python",
   "name": "python3"
  },
  "language_info": {
   "codemirror_mode": {
    "name": "ipython",
    "version": 3
   },
   "file_extension": ".py",
   "mimetype": "text/x-python",
   "name": "python",
   "nbconvert_exporter": "python",
   "pygments_lexer": "ipython3",
   "version": "3.12.7"
  }
 },
 "nbformat": 4,
 "nbformat_minor": 2
}
