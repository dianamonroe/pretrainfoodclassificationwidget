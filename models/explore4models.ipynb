{
 "cells": [
  {
   "cell_type": "code",
   "execution_count": 2,
   "metadata": {},
   "outputs": [
    {
     "ename": "ModuleNotFoundError",
     "evalue": "No module named 'cv2'",
     "output_type": "error",
     "traceback": [
      "\u001b[0;31m---------------------------------------------------------------------------\u001b[0m",
      "\u001b[0;31mModuleNotFoundError\u001b[0m                       Traceback (most recent call last)",
      "Cell \u001b[0;32mIn[2], line 2\u001b[0m\n\u001b[1;32m      1\u001b[0m \u001b[38;5;28;01mimport\u001b[39;00m \u001b[38;5;21;01mos\u001b[39;00m\n\u001b[0;32m----> 2\u001b[0m \u001b[38;5;28;01mimport\u001b[39;00m \u001b[38;5;21;01mcv2\u001b[39;00m\n\u001b[1;32m      3\u001b[0m \u001b[38;5;28;01mimport\u001b[39;00m \u001b[38;5;21;01mnumpy\u001b[39;00m \u001b[38;5;28;01mas\u001b[39;00m \u001b[38;5;21;01mnp\u001b[39;00m\n\u001b[1;32m      4\u001b[0m \u001b[38;5;28;01mfrom\u001b[39;00m \u001b[38;5;21;01mPIL\u001b[39;00m \u001b[38;5;28;01mimport\u001b[39;00m Image\n",
      "\u001b[0;31mModuleNotFoundError\u001b[0m: No module named 'cv2'"
     ]
    }
   ],
   "source": [
    "import os\n",
    "import cv2\n",
    "import numpy as np\n",
    "from PIL import Image\n",
    "\n",
    "# Parámetros de normalización\n",
    "TARGET_SIZE = (224, 224)  # Dimensiones objetivo\n",
    "TARGET_BRIGHTNESS = 120  # Brillo promedio deseado\n",
    "TARGET_LAPLACIAN_VARIANCE = 100  # Varianza deseada para el enfoque\n",
    "\n",
    "# Función para ajustar el brillo\n",
    "def adjust_brightness(image, target_brightness):\n",
    "    \"\"\"Ajustar el brillo promedio de la imagen al nivel deseado.\"\"\"\n",
    "    current_brightness = np.mean(image)\n",
    "    brightness_ratio = target_brightness / current_brightness\n",
    "    adjusted = np.clip(image * brightness_ratio, 0, 255).astype(np.uint8)\n",
    "    return adjusted\n",
    "\n",
    "# Función para ajustar el enfoque\n",
    "def adjust_focus(image, target_variance):\n",
    "    \"\"\"Ajustar el enfoque (nitidez) mediante un filtro Laplaciano.\"\"\"\n",
    "    current_variance = cv2.Laplacian(image, cv2.CV_64F).var()\n",
    "    if current_variance < target_variance:\n",
    "        kernel = np.array([[0, -1, 0], [-1, 5, -1], [0, -1, 0]])  # Filtro de nitidez\n",
    "        return cv2.filter2D(image, -1, kernel)\n",
    "    return image\n",
    "\n",
    "# Función principal de normalización\n",
    "def normalize_image(image_path, output_path):\n",
    "    try:\n",
    "        # Cargar la imagen\n",
    "        img = Image.open(image_path).convert('RGB')\n",
    "        img_resized = img.resize(TARGET_SIZE)\n",
    "\n",
    "        # Convertir a array NumPy\n",
    "        img_array = np.array(img_resized)\n",
    "\n",
    "        # Ajustar brillo\n",
    "        img_brightness_adjusted = adjust_brightness(img_array, TARGET_BRIGHTNESS)\n",
    "\n",
    "        # Ajustar enfoque\n",
    "        img_final = adjust_focus(img_brightness_adjusted, TARGET_LAPLACIAN_VARIANCE)\n",
    "\n",
    "        # Guardar imagen normalizada\n",
    "        os.makedirs(os.path.dirname(output_path), exist_ok=True)\n",
    "        cv2.imwrite(output_path, cv2.cvtColor(img_final, cv2.COLOR_RGB2BGR))\n",
    "        print(f\"Imagen normalizada y guardada: {output_path}\")\n",
    "\n",
    "    except Exception as e:\n",
    "        print(f\"Error al procesar {image_path}: {e}\")\n",
    "\n",
    "# Función para procesar carpetas dinámicamente\n",
    "def process_directory(source_dir, destination_dir):\n",
    "    os.makedirs(destination_dir, exist_ok=True)\n",
    "    for filename in os.listdir(source_dir):\n",
    "        if filename.lower().endswith(('.jpg', '.jpeg', '.png')):\n",
    "            src_path = os.path.join(source_dir, filename)\n",
    "            dest_path = os.path.join(destination_dir, filename)\n",
    "            normalize_image(src_path, dest_path)\n",
    "\n",
    "# Rutas de carpetas\n",
    "source_path_1 = \"classified/no\"\n",
    "source_path_2 = \"classified/yes\"\n",
    "source_path_3 = \"classified/pastry\"\n",
    "destination_path_1 = \"normalized/no\"\n",
    "destination_path_2 = \"normalized/yes\"\n",
    "destination_path_3 = \"normalized/pastry\"\n",
    "\n",
    "# Procesar imágenes\n",
    "print(f\"Normalizando imágenes desde {source_path_1}...\")\n",
    "process_directory(source_path_1, destination_path_1)\n",
    "print(f\"Normalizando imágenes desde {source_path_2}...\")\n",
    "process_directory(source_path_2, destination_path_2)\n",
    "print(f\"Normalizando imágenes desde {source_path_3}...\")\n",
    "process_directory(source_path_3, destination_path_3)\n",
    "\n",
    "print(\"¡Normalización completa!\")\n"
   ]
  },
  {
   "cell_type": "markdown",
   "metadata": {},
   "source": []
  },
  {
   "cell_type": "code",
   "execution_count": null,
   "metadata": {},
   "outputs": [],
   "source": []
  }
 ],
 "metadata": {
  "kernelspec": {
   "display_name": ".venv",
   "language": "python",
   "name": "python3"
  },
  "language_info": {
   "codemirror_mode": {
    "name": "ipython",
    "version": 3
   },
   "file_extension": ".py",
   "mimetype": "text/x-python",
   "name": "python",
   "nbconvert_exporter": "python",
   "pygments_lexer": "ipython3",
   "version": "3.12.7"
  }
 },
 "nbformat": 4,
 "nbformat_minor": 2
}
